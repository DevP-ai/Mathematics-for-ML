{
  "nbformat": 4,
  "nbformat_minor": 0,
  "metadata": {
    "colab": {
      "provenance": [],
      "authorship_tag": "ABX9TyPaDDK3kPi6f8JwV5ah7Hjq",
      "include_colab_link": true
    },
    "kernelspec": {
      "name": "python3",
      "display_name": "Python 3"
    },
    "language_info": {
      "name": "python"
    }
  },
  "cells": [
    {
      "cell_type": "markdown",
      "metadata": {
        "id": "view-in-github",
        "colab_type": "text"
      },
      "source": [
        "<a href=\"https://colab.research.google.com/github/DevP-ai/Mathematics-for-ML/blob/main/Lec_2(Matrix)_Essential_Maths_For_ML.ipynb\" target=\"_parent\"><img src=\"https://colab.research.google.com/assets/colab-badge.svg\" alt=\"Open In Colab\"/></a>"
      ]
    },
    {
      "cell_type": "code",
      "execution_count": 1,
      "metadata": {
        "id": "3JPIIq2NrOaC"
      },
      "outputs": [],
      "source": [
        "import numpy as np"
      ]
    },
    {
      "cell_type": "code",
      "source": [
        "a=np.array([[1,7],[2,1],[3,2]])\n",
        "print(\"Matrix A: \\n\",a)"
      ],
      "metadata": {
        "colab": {
          "base_uri": "https://localhost:8080/"
        },
        "id": "Ahx-1zvarZAq",
        "outputId": "d8b56a85-890c-4abe-a194-1f320007a713"
      },
      "execution_count": 6,
      "outputs": [
        {
          "output_type": "stream",
          "name": "stdout",
          "text": [
            "Matrix A: \n",
            " [[1 7]\n",
            " [2 1]\n",
            " [3 2]]\n"
          ]
        }
      ]
    },
    {
      "cell_type": "code",
      "source": [
        "b=np.array([[1,1],[1,-1],[1,0]])\n",
        "print(\"Matrix B: \\n\",b)"
      ],
      "metadata": {
        "colab": {
          "base_uri": "https://localhost:8080/"
        },
        "id": "8dpv9pXLrmnK",
        "outputId": "1472ea37-fa30-484d-fa91-adda29ecab65"
      },
      "execution_count": 10,
      "outputs": [
        {
          "output_type": "stream",
          "name": "stdout",
          "text": [
            "Matrix B: \n",
            " [[ 1  1]\n",
            " [ 1 -1]\n",
            " [ 1  0]]\n"
          ]
        }
      ]
    },
    {
      "cell_type": "code",
      "source": [
        "c=np.add(a,b)\n",
        "print(\"Addition of Two Matrices A+B: \\n\",c)"
      ],
      "metadata": {
        "colab": {
          "base_uri": "https://localhost:8080/"
        },
        "id": "qOUeGVf9sHgS",
        "outputId": "40baec67-f8a6-4179-aece-5f9a9e6c783c"
      },
      "execution_count": 11,
      "outputs": [
        {
          "output_type": "stream",
          "name": "stdout",
          "text": [
            "Addition of Two Matrices A+B: \n",
            " [[2 8]\n",
            " [3 0]\n",
            " [4 2]]\n"
          ]
        }
      ]
    },
    {
      "cell_type": "code",
      "source": [
        "d=np.subtract(a,b)\n",
        "print(\"Substraction of Two Matrices A-B: \\n\",d)"
      ],
      "metadata": {
        "colab": {
          "base_uri": "https://localhost:8080/"
        },
        "id": "imanCsnHsYiT",
        "outputId": "f64b6aa4-e6b0-4c5e-a3f6-aab628e056f4"
      },
      "execution_count": 12,
      "outputs": [
        {
          "output_type": "stream",
          "name": "stdout",
          "text": [
            "Substraction of Two Matrices A-B: \n",
            " [[0 6]\n",
            " [1 2]\n",
            " [2 2]]\n"
          ]
        }
      ]
    },
    {
      "cell_type": "code",
      "source": [
        "r=np.array([[1,3,1],[1,0,1]])\n",
        "m=np.dot(a,r)\n",
        "print(\"Multriplication A.R: \\n\",m)"
      ],
      "metadata": {
        "colab": {
          "base_uri": "https://localhost:8080/"
        },
        "id": "cVWhdkXEsr0L",
        "outputId": "0f1e31c4-843f-4a47-de06-44fc09736623"
      },
      "execution_count": 16,
      "outputs": [
        {
          "output_type": "stream",
          "name": "stdout",
          "text": [
            "Multriplication A.R: \n",
            " [[8 3 8]\n",
            " [3 6 3]\n",
            " [5 9 5]]\n"
          ]
        }
      ]
    },
    {
      "cell_type": "code",
      "source": [
        "det=np.linalg.det(m)\n",
        "print(\"Determinant of M: \",det)"
      ],
      "metadata": {
        "colab": {
          "base_uri": "https://localhost:8080/"
        },
        "id": "kTaqdFh7tFc0",
        "outputId": "d732314e-e208-43a6-d3c3-6fd58247940a"
      },
      "execution_count": 20,
      "outputs": [
        {
          "output_type": "stream",
          "name": "stdout",
          "text": [
            "Determinant of M:  0.0\n"
          ]
        }
      ]
    },
    {
      "cell_type": "markdown",
      "source": [
        "Determinant is zero means m is a singular matrix,so m does not have Inverse "
      ],
      "metadata": {
        "id": "iYEyz6wttu2h"
      }
    },
    {
      "cell_type": "code",
      "source": [
        "e=np.array([[2,5],[4,8]])\n",
        "print(\"Matrics E: \\n\",e)\n",
        "inv=np.linalg.inv(e)\n",
        "print(\"Inverse of A Matrix E: \\n\",inv)"
      ],
      "metadata": {
        "colab": {
          "base_uri": "https://localhost:8080/"
        },
        "id": "S5VGWS5xthb7",
        "outputId": "342904ea-ad4d-41c7-9d8e-e57bca11c041"
      },
      "execution_count": 23,
      "outputs": [
        {
          "output_type": "stream",
          "name": "stdout",
          "text": [
            "Matrics E: \n",
            " [[2 5]\n",
            " [4 8]]\n",
            "Inverse of A Matrix E: \n",
            " [[-2.    1.25]\n",
            " [ 1.   -0.5 ]]\n"
          ]
        }
      ]
    },
    {
      "cell_type": "code",
      "source": [],
      "metadata": {
        "id": "NGSapk4juDrb"
      },
      "execution_count": null,
      "outputs": []
    }
  ]
}